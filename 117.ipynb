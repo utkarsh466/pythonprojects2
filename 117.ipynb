{
 "cells": [
  {
   "cell_type": "code",
   "execution_count": 1,
   "id": "1e9f04ee",
   "metadata": {},
   "outputs": [],
   "source": [
    "import pandas as pd\n",
    "import numpy as np\n",
    "import seaborn as sns\n",
    "import matplotlib.pyplot as plt\n",
    "from sklearn.linear_model import LogisticRegression\n",
    "from sklearn.metrics import confusion_matrix\n",
    "from sklearn.model_selection import train_test_split"
   ]
  },
  {
   "cell_type": "code",
   "execution_count": 2,
   "id": "c9f27bd0",
   "metadata": {},
   "outputs": [
    {
     "data": {
      "text/plain": [
       "[Text(0.5, 0, 'Forged'), Text(1.5, 0, 'Authorized')]"
      ]
     },
     "execution_count": 2,
     "metadata": {},
     "output_type": "execute_result"
    },
    {
     "data": {
      "image/png": "[encoded data removed]",
      "text/plain": [
       "<Figure size 432x288 with 2 Axes>"
      ]
     },
     "metadata": {
      "needs_background": "light"
     },
     "output_type": "display_data"
    }
   ],
   "source": [
    "df=pd.read_csv('117.csv')\n",
    "# df.head()\n",
    "X=df[['variance','skewness','curtosis','entropy']]\n",
    "y=df['class']\n",
    "\n",
    "X_train,X_test,y_train,y_test=train_test_split(X,y,test_size=0.25,random_state=0)\n",
    "clf=LogisticRegression()\n",
    "\n",
    "clf.fit(X_train,y_train)\n",
    "\n",
    "predictions=clf.predict(X_test)\n",
    "cm=confusion_matrix(y_test,predictions)\n",
    "\n",
    "predicted_values=[]\n",
    "\n",
    "for i in predictions:\n",
    "    if i==0:\n",
    "        predicted_values.append('Authorized')\n",
    "    else:\n",
    "        predicted_values.append('Forged')\n",
    "actual_values=[]\n",
    "\n",
    "for i in y_test:\n",
    "    if i==0:\n",
    "        actual_values.append('Authorized')\n",
    "    else:\n",
    "        actual_values.append('Forged')\n",
    "\n",
    "ax=plt.subplot()\n",
    "\n",
    "sns.heatmap(cm,ax=ax,annot=True)\n",
    "\n",
    "ax.set_xlabel('Predicted Value')\n",
    "\n",
    "ax.set_ylabel('Actual Value')\n",
    "\n",
    "ax.set_title('Confusion matrix')\n",
    "\n",
    "temp=['Forged','Authorized']\n",
    "ax.yaxis.set_ticklabels(temp)\n",
    "ax.xaxis.set_ticklabels(temp)\n"
   ]
  },
  {
   "cell_type": "code",
   "execution_count": null,
   "id": "cc9cdebd",
   "metadata": {},
   "outputs": [],
   "source": []
  }
 ],
 "metadata": {
  "kernelspec": {
   "display_name": "Python 3 (ipykernel)",
   "language": "python",
   "name": "python3"
  },
  "language_info": {
   "codemirror_mode": {
    "name": "ipython",
    "version": 3
   },
   "file_extension": ".py",
   "mimetype": "text/x-python",
   "name": "python",
   "nbconvert_exporter": "python",
   "pygments_lexer": "ipython3",
   "version": "3.9.7"
  }
 },
 "nbformat": 4,
 "nbformat_minor": 5
}
